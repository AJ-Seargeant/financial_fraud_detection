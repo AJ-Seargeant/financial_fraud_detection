{
 "cells": [
  {
   "cell_type": "markdown",
   "id": "4f8870d2",
   "metadata": {},
   "source": [
    "## **Credit card fraud dection** \n"
   ]
  },
  {
   "cell_type": "markdown",
   "id": "104743dc",
   "metadata": {},
   "source": [
    "\n",
    "## Table of Contents\n",
    "- [Objectives](#Objectives)\n",
    "- [Data-Preparation](#Data-Preparation)\n",
    "- [Scenario](#Scenario)\n",
    "- [Model-Building](#Model-Building)\n",
    "- [Evaluation](#Evaluation)\n",
    "- [Conclusion](#Conclusion)\n"
   ]
  },
  {
   "cell_type": "markdown",
   "id": "a6d274b9",
   "metadata": {},
   "source": [
    "# Objectives\n",
    "\n",
    "Using exploring more advanced (ensemble) models to detect credit card fraud.\n",
    "\n",
    "Exploring:\n",
    "- Random Forest\n",
    "- Gradient Boosting\n",
    "- Isolation Forests\n",
    "\n"
   ]
  },
  {
   "cell_type": "markdown",
   "id": "d30e3e07",
   "metadata": {},
   "source": [
    "# Data-Preparation"
   ]
  },
  {
   "cell_type": "markdown",
   "id": "14d0da45",
   "metadata": {},
   "source": [
    "### Importing Required Libraries\n",
    "\n",
    "Libraries required for this notebook will be imported here"
   ]
  },
  {
   "cell_type": "code",
   "execution_count": 7,
   "id": "3badea9d",
   "metadata": {},
   "outputs": [],
   "source": [
    "import pandas as pd"
   ]
  },
  {
   "cell_type": "markdown",
   "id": "dfbd9325",
   "metadata": {},
   "source": [
    "### Load in data\n",
    "\n",
    "Data used: https://www.kaggle.com/datasets/mlg-ulb/creditcardfraud"
   ]
  },
  {
   "cell_type": "code",
   "execution_count": 8,
   "id": "5eb9da42",
   "metadata": {},
   "outputs": [
    {
     "data": {
      "text/html": [
       "<div>\n",
       "<style scoped>\n",
       "    .dataframe tbody tr th:only-of-type {\n",
       "        vertical-align: middle;\n",
       "    }\n",
       "\n",
       "    .dataframe tbody tr th {\n",
       "        vertical-align: top;\n",
       "    }\n",
       "\n",
       "    .dataframe thead th {\n",
       "        text-align: right;\n",
       "    }\n",
       "</style>\n",
       "<table border=\"1\" class=\"dataframe\">\n",
       "  <thead>\n",
       "    <tr style=\"text-align: right;\">\n",
       "      <th></th>\n",
       "      <th>Time</th>\n",
       "      <th>V1</th>\n",
       "      <th>V2</th>\n",
       "      <th>V3</th>\n",
       "      <th>V4</th>\n",
       "      <th>V5</th>\n",
       "      <th>V6</th>\n",
       "      <th>V7</th>\n",
       "      <th>V8</th>\n",
       "      <th>V9</th>\n",
       "      <th>...</th>\n",
       "      <th>V21</th>\n",
       "      <th>V22</th>\n",
       "      <th>V23</th>\n",
       "      <th>V24</th>\n",
       "      <th>V25</th>\n",
       "      <th>V26</th>\n",
       "      <th>V27</th>\n",
       "      <th>V28</th>\n",
       "      <th>Amount</th>\n",
       "      <th>Class</th>\n",
       "    </tr>\n",
       "  </thead>\n",
       "  <tbody>\n",
       "    <tr>\n",
       "      <th>0</th>\n",
       "      <td>0.0</td>\n",
       "      <td>-1.359807</td>\n",
       "      <td>-0.072781</td>\n",
       "      <td>2.536347</td>\n",
       "      <td>1.378155</td>\n",
       "      <td>-0.338321</td>\n",
       "      <td>0.462388</td>\n",
       "      <td>0.239599</td>\n",
       "      <td>0.098698</td>\n",
       "      <td>0.363787</td>\n",
       "      <td>...</td>\n",
       "      <td>-0.018307</td>\n",
       "      <td>0.277838</td>\n",
       "      <td>-0.110474</td>\n",
       "      <td>0.066928</td>\n",
       "      <td>0.128539</td>\n",
       "      <td>-0.189115</td>\n",
       "      <td>0.133558</td>\n",
       "      <td>-0.021053</td>\n",
       "      <td>149.62</td>\n",
       "      <td>0</td>\n",
       "    </tr>\n",
       "  </tbody>\n",
       "</table>\n",
       "<p>1 rows × 31 columns</p>\n",
       "</div>"
      ],
      "text/plain": [
       "   Time        V1        V2        V3        V4        V5        V6        V7  \\\n",
       "0   0.0 -1.359807 -0.072781  2.536347  1.378155 -0.338321  0.462388  0.239599   \n",
       "\n",
       "         V8        V9  ...       V21       V22       V23       V24       V25  \\\n",
       "0  0.098698  0.363787  ... -0.018307  0.277838 -0.110474  0.066928  0.128539   \n",
       "\n",
       "        V26       V27       V28  Amount  Class  \n",
       "0 -0.189115  0.133558 -0.021053  149.62      0  \n",
       "\n",
       "[1 rows x 31 columns]"
      ]
     },
     "execution_count": 8,
     "metadata": {},
     "output_type": "execute_result"
    }
   ],
   "source": [
    "data = pd.read_csv(\"..\\data\\kaggel_credit_card_fraud_detection\\creditcard.csv\")\n",
    "data.head(1)"
   ]
  },
  {
   "cell_type": "markdown",
   "id": "0299795e",
   "metadata": {},
   "source": [
    "### Split data into training and testing set"
   ]
  },
  {
   "cell_type": "code",
   "execution_count": 9,
   "id": "45c07cf2",
   "metadata": {},
   "outputs": [
    {
     "data": {
      "text/plain": [
       "((227845, 30), (56962, 30), (227845,), (56962,))"
      ]
     },
     "execution_count": 9,
     "metadata": {},
     "output_type": "execute_result"
    }
   ],
   "source": [
    "from sklearn.model_selection import train_test_split\n",
    "X = data.drop(columns=[\"Class\"])\n",
    "y = data[\"Class\"]\n",
    "X_train, X_test, y_train, y_test = train_test_split(X, y, test_size=0.2, random_state=42)   \n",
    "X_train.shape, X_test.shape, y_train.shape, y_test.shape  "
   ]
  },
  {
   "cell_type": "code",
   "execution_count": 10,
   "id": "7812c14f",
   "metadata": {},
   "outputs": [
    {
     "data": {
      "text/plain": [
       "(Class\n",
       " 0    227451\n",
       " 1       394\n",
       " Name: count, dtype: int64,\n",
       " Class\n",
       " 0    56864\n",
       " 1       98\n",
       " Name: count, dtype: int64)"
      ]
     },
     "execution_count": 10,
     "metadata": {},
     "output_type": "execute_result"
    }
   ],
   "source": [
    "#check amounts of fraud and non-fraud\n",
    "y_train.value_counts(), y_test.value_counts()"
   ]
  },
  {
   "cell_type": "markdown",
   "id": "d026a024",
   "metadata": {},
   "source": [
    "### Standardise data"
   ]
  },
  {
   "cell_type": "code",
   "execution_count": 11,
   "id": "502e988c",
   "metadata": {},
   "outputs": [],
   "source": [
    "from sklearn.preprocessing import StandardScaler\n",
    "scaler = StandardScaler()\n",
    "X_scaled = scaler.fit_transform(X)"
   ]
  },
  {
   "cell_type": "markdown",
   "id": "90ee7b44",
   "metadata": {},
   "source": [
    "# Scenario\n",
    "\n",
    "Predict credit card fraud various ML models, creating, testing and validating them\n",
    "\n",
    "### Data Description ###\n",
    "\n",
    "The dataset used for this visualization project contains transactions made by credit cards in September 2013 by European cardholders.\n",
    "This dataset presents transactions that occurred in two days, where we have 492 frauds out of 284,807 transactions. The dataset is highly unbalanced, the positive class (frauds) account for 0.172% of all transactions. Features V1-V28 have been deduced by PCA, and have names omitted due to confidentiality\n",
    "\n",
    "The dataset includes the following variables:\n",
    "<br>1. Time: Seconds elapsed between each transaction and the first transaction in the dataset.\n",
    "<br>2-29. V1 - V28: Anonymised features deduced by PCA\n",
    "<br>30. Amount: transaction Amount, this feature can be used for example-dependant cost-sensitive learning\n",
    "<br>31. Class: Responce varialbe for fraud classification (0 = not fraud, 1 = fraud)\n",
    "\n",
    "\n"
   ]
  },
  {
   "cell_type": "markdown",
   "id": "8f82b8fc",
   "metadata": {},
   "source": [
    "# Model-Building"
   ]
  },
  {
   "cell_type": "markdown",
   "id": "853a1aa7",
   "metadata": {},
   "source": [
    "## Random Forest"
   ]
  },
  {
   "cell_type": "code",
   "execution_count": null,
   "id": "a4a15544",
   "metadata": {},
   "outputs": [],
   "source": [
    "from sklearn.ensemble import RandomForestClassifier\n",
    "rf = RandomForestClassifier(n_estimators=10, random_state=1)\n",
    "\n"
   ]
  }
 ],
 "metadata": {
  "kernelspec": {
   "display_name": "Python 3",
   "language": "python",
   "name": "python3"
  },
  "language_info": {
   "codemirror_mode": {
    "name": "ipython",
    "version": 3
   },
   "file_extension": ".py",
   "mimetype": "text/x-python",
   "name": "python",
   "nbconvert_exporter": "python",
   "pygments_lexer": "ipython3",
   "version": "3.11.9"
  }
 },
 "nbformat": 4,
 "nbformat_minor": 5
}
