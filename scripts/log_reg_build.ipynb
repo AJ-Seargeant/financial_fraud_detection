{
 "cells": [
  {
   "cell_type": "markdown",
   "id": "92935731",
   "metadata": {},
   "source": [
    "## Building a logistic regression model <br>\n",
    "\n",
    "Working with a logistic regression model for classification has been insightful but I am wanting to understand the logistic regression model further. Here I will build a logistic regression from scratch."
   ]
  },
  {
   "cell_type": "markdown",
   "id": "73f9aa8d",
   "metadata": {},
   "source": [
    "### Install required modules"
   ]
  },
  {
   "cell_type": "code",
   "execution_count": 24,
   "id": "0312f212",
   "metadata": {},
   "outputs": [],
   "source": [
    "import pandas as pd\n",
    "import numpy as np\n",
    "import matplotlib.pyplot as plt\n",
    "%matplotlib inline"
   ]
  },
  {
   "cell_type": "markdown",
   "id": "48027e89",
   "metadata": {},
   "source": [
    "### Create synthetic data\n",
    "\n",
    "Lets start with 1 dependant variable and 2 independant variables. The independant variables are continuous and sampled from a normal distrobution. The dependent variable is a discrete variable."
   ]
  },
  {
   "cell_type": "code",
   "execution_count": 71,
   "id": "2e933ba2",
   "metadata": {},
   "outputs": [
    {
     "data": {
      "text/html": [
       "<div>\n",
       "<style scoped>\n",
       "    .dataframe tbody tr th:only-of-type {\n",
       "        vertical-align: middle;\n",
       "    }\n",
       "\n",
       "    .dataframe tbody tr th {\n",
       "        vertical-align: top;\n",
       "    }\n",
       "\n",
       "    .dataframe thead th {\n",
       "        text-align: right;\n",
       "    }\n",
       "</style>\n",
       "<table border=\"1\" class=\"dataframe\">\n",
       "  <thead>\n",
       "    <tr style=\"text-align: right;\">\n",
       "      <th></th>\n",
       "      <th>x</th>\n",
       "      <th>y</th>\n",
       "    </tr>\n",
       "  </thead>\n",
       "  <tbody>\n",
       "    <tr>\n",
       "      <th>0</th>\n",
       "      <td>4.967142</td>\n",
       "      <td>1</td>\n",
       "    </tr>\n",
       "    <tr>\n",
       "      <th>1</th>\n",
       "      <td>-1.382643</td>\n",
       "      <td>0</td>\n",
       "    </tr>\n",
       "    <tr>\n",
       "      <th>2</th>\n",
       "      <td>6.476885</td>\n",
       "      <td>1</td>\n",
       "    </tr>\n",
       "    <tr>\n",
       "      <th>3</th>\n",
       "      <td>15.230299</td>\n",
       "      <td>1</td>\n",
       "    </tr>\n",
       "    <tr>\n",
       "      <th>4</th>\n",
       "      <td>-2.341534</td>\n",
       "      <td>0</td>\n",
       "    </tr>\n",
       "  </tbody>\n",
       "</table>\n",
       "</div>"
      ],
      "text/plain": [
       "           x  y\n",
       "0   4.967142  1\n",
       "1  -1.382643  0\n",
       "2   6.476885  1\n",
       "3  15.230299  1\n",
       "4  -2.341534  0"
      ]
     },
     "execution_count": 71,
     "metadata": {},
     "output_type": "execute_result"
    }
   ],
   "source": [
    "# Set random seed for reproducibility\n",
    "np.random.seed(42)\n",
    "\n",
    "x = np.random.normal(0, 10, size=1000)\n",
    "\n",
    "p = 1 / (1 + np.exp(-0.8 * x + np.random.normal(0, 0.5, size=x.shape)))\n",
    "y = (p > 0.5).astype(int)\n",
    "\n",
    "df = pd.DataFrame({'x': x, 'y': y})\n",
    "df.head()"
   ]
  },
  {
   "cell_type": "code",
   "execution_count": 72,
   "id": "58b6f579",
   "metadata": {},
   "outputs": [
    {
     "data": {
      "text/html": [
       "<div>\n",
       "<style scoped>\n",
       "    .dataframe tbody tr th:only-of-type {\n",
       "        vertical-align: middle;\n",
       "    }\n",
       "\n",
       "    .dataframe tbody tr th {\n",
       "        vertical-align: top;\n",
       "    }\n",
       "\n",
       "    .dataframe thead th {\n",
       "        text-align: right;\n",
       "    }\n",
       "</style>\n",
       "<table border=\"1\" class=\"dataframe\">\n",
       "  <thead>\n",
       "    <tr style=\"text-align: right;\">\n",
       "      <th></th>\n",
       "      <th>x</th>\n",
       "      <th>y</th>\n",
       "    </tr>\n",
       "  </thead>\n",
       "  <tbody>\n",
       "    <tr>\n",
       "      <th>count</th>\n",
       "      <td>1000.000000</td>\n",
       "      <td>1000.000000</td>\n",
       "    </tr>\n",
       "    <tr>\n",
       "      <th>mean</th>\n",
       "      <td>0.193321</td>\n",
       "      <td>0.509000</td>\n",
       "    </tr>\n",
       "    <tr>\n",
       "      <th>std</th>\n",
       "      <td>9.792159</td>\n",
       "      <td>0.500169</td>\n",
       "    </tr>\n",
       "    <tr>\n",
       "      <th>min</th>\n",
       "      <td>-32.412673</td>\n",
       "      <td>0.000000</td>\n",
       "    </tr>\n",
       "    <tr>\n",
       "      <th>25%</th>\n",
       "      <td>-6.475903</td>\n",
       "      <td>0.000000</td>\n",
       "    </tr>\n",
       "    <tr>\n",
       "      <th>50%</th>\n",
       "      <td>0.253006</td>\n",
       "      <td>1.000000</td>\n",
       "    </tr>\n",
       "    <tr>\n",
       "      <th>75%</th>\n",
       "      <td>6.479439</td>\n",
       "      <td>1.000000</td>\n",
       "    </tr>\n",
       "    <tr>\n",
       "      <th>max</th>\n",
       "      <td>38.527315</td>\n",
       "      <td>1.000000</td>\n",
       "    </tr>\n",
       "  </tbody>\n",
       "</table>\n",
       "</div>"
      ],
      "text/plain": [
       "                 x            y\n",
       "count  1000.000000  1000.000000\n",
       "mean      0.193321     0.509000\n",
       "std       9.792159     0.500169\n",
       "min     -32.412673     0.000000\n",
       "25%      -6.475903     0.000000\n",
       "50%       0.253006     1.000000\n",
       "75%       6.479439     1.000000\n",
       "max      38.527315     1.000000"
      ]
     },
     "execution_count": 72,
     "metadata": {},
     "output_type": "execute_result"
    }
   ],
   "source": [
    "df.describe()"
   ]
  },
  {
   "cell_type": "code",
   "execution_count": 73,
   "id": "5710c68d",
   "metadata": {},
   "outputs": [
    {
     "data": {
      "image/png": "[encoded data removed]",
      "text/plain": [
       "<Figure size 640x480 with 1 Axes>"
      ]
     },
     "metadata": {},
     "output_type": "display_data"
    }
   ],
   "source": [
    "df['y'].value_counts().plot(kind='bar', title='Distribution of y')\n",
    "plt.xlabel('y')\n",
    "plt.ylabel('Count')\n",
    "plt.show()"
   ]
  },
  {
   "cell_type": "code",
   "execution_count": 74,
   "id": "8930da25",
   "metadata": {},
   "outputs": [
    {
     "data": {
      "image/png": "[encoded data removed]",
      "text/plain": [
       "<Figure size 640x480 with 1 Axes>"
      ]
     },
     "metadata": {},
     "output_type": "display_data"
    }
   ],
   "source": [
    "plt.hist(df['x'], bins=30, alpha=0.5, label='X', color='blue')\n",
    "plt.xlabel('Value')\n",
    "plt.ylabel('Frequency')\n",
    "plt.title('Histogram of X')\n",
    "plt.legend()\n",
    "plt.show()\n"
   ]
  },
  {
   "cell_type": "markdown",
   "id": "1c20013a",
   "metadata": {},
   "source": [
    "### Logistic Regression Maths"
   ]
  },
  {
   "cell_type": "markdown",
   "id": "351fc698",
   "metadata": {},
   "source": [
    "Logistic regression models the probability of the dependant variable 𝑦 belonging to class 1 (instead of class 0).\n",
    "\n",
    "This can be written as: <br/>\n",
    "<br/>\n",
    "$$\n",
    "Pr(𝑦 = 1|x) \n",
    "$$\n",
    "<br/>\n",
    "Where y = the dependant variable and x = the independant variable. <br/>\n",
    "\n",
    "To model the relationship between $p(X) = Pr(𝑦 = 1|x)$ and $X$, where $X={x1,x2,...,xn}$ , we can use the logistic regression model: <br/>\n",
    "<br/>\n",
    "$$\n",
    "p(X) = \\frac{e^{\\beta_0 + \\beta_1 x}}{1 + e^{\\beta_0 + \\beta_1 x}}\n",
    "$$\n",
    "\n"
   ]
  },
  {
   "cell_type": "markdown",
   "id": "ae5b47bc",
   "metadata": {},
   "source": [
    "Which we can rearrage as:<br/>\n",
    "<br/>\n",
    "$$\n",
    "log\\left(\\frac{p(X)}{1-p(X)}\\right) = \\beta_0 + \\beta_1 x\n",
    "$$\n",
    "<br/>\n"
   ]
  },
  {
   "cell_type": "markdown",
   "id": "33c0f1af",
   "metadata": {},
   "source": [
    "The left-hand side is known as the log odds, and is linear with X. With a logistic regression model an increase in X by one unit changed the log odds by $\\beta_1$, or its changes the odds (probability) by $e^{\\beta_1}$."
   ]
  },
  {
   "cell_type": "markdown",
   "id": "2ad377e0",
   "metadata": {},
   "source": [
    "To estimate the coefficients $\\beta_0$ and $\\beta_1$, we use the maximum likelihood method to fit the logistic regression model. WE try and find the values of $\\beta_0$ and $\\beta_1$ that when plugged into the model logistic regression model, would yield a number close to one for class 1 and a number close to 0 for class 0. The maximum likelihood function is as as follows:\n",
    "$$ ℓ(β₀, β₁) = ∏_{i : y_i=1} p(x_i) ∏_{i' : y_{i'}=0} (1 - p(x_{i'})) $$\n",
    "The estimates of $\\beta_0$ and $\\beta_1$ are chosen to maximise this function.\n",
    "\n",
    "We can derive the log-likelihood function, which simplifies computations:\n",
    "$$ℓ(β₀, β₁) = ∑_{i=1}^{n} \\left[ y_i \\log p(x_i) + (1 - y_i) \\log (1 - p(x_i)) \\right]$$\n"
   ]
  },
  {
   "cell_type": "markdown",
   "id": "52534316",
   "metadata": {},
   "source": [
    "To maximise the log-likelihood function, we compute it's gradient:\n",
    "$$∂ℓ/∂β = ∑_{i=1}^{n} (y_i - p(x_i)) x_i$$\n",
    "This gradient is used in gradient ascent to update $\\beta_0$ and $\\beta_1$.\n"
   ]
  }
 ],
 "metadata": {
  "kernelspec": {
   "display_name": "Python 3",
   "language": "python",
   "name": "python3"
  },
  "language_info": {
   "codemirror_mode": {
    "name": "ipython",
    "version": 3
   },
   "file_extension": ".py",
   "mimetype": "text/x-python",
   "name": "python",
   "nbconvert_exporter": "python",
   "pygments_lexer": "ipython3",
   "version": "3.11.9"
  }
 },
 "nbformat": 4,
 "nbformat_minor": 5
}
