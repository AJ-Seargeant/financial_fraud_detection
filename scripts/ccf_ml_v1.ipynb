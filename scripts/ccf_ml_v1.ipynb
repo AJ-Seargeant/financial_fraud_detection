{
 "cells": [
  {
   "cell_type": "markdown",
   "id": "4f8870d2",
   "metadata": {},
   "source": [
    "# **Credit card fraud dection using machine learning** \n",
    "\n",
    "\n",
    "\n",
    "In this notebook, I will using ML techniques to detect fraud in a credit card dataset"
   ]
  },
  {
   "cell_type": "markdown",
   "id": "104743dc",
   "metadata": {},
   "source": [
    "# __Table of Contents__\n",
    "\n",
    "<ol>\n",
    "    <li><a href=\"#Objectives\">Objectives</a></li>\n",
    "    <li>\n",
    "        <a href=\"#Setup\">Setup</a>\n",
    "        <ol>\n",
    "            <li><a href=\"#Importing Required Libraries\">Importing Required Libraries</a></li>\n",
    "            <li><a href=\"#Load in dataset\">Load in dataset</a></li>\n",
    "            </ol>\n",
    "    </li>\n",
    "    <li>\n",
    "        <a href=\"#Scenario\">Scenario</a>\n",
    "        <ol>\n",
    "            <li><a href=\"#Data preparation\">Data Description</a></li>\n",
    "            <li><a href=\"#Split data into trainign and testing set\">Split data into trainign and testing set</a></li>\n",
    "            <li><a href=\"#Standardise data\">Standardise data</a></li>\n",
    "        </ol>\n",
    "    </li>\n",
    "    </li>\n",
    "    <li>\n",
    "        <a href=\"#Logistic regression\">Logistic regression</a>\n",
    "        <ol>\n",
    "            <li><a href=\"#Model development\">Model development</a></li>\n",
    "            <li><a href=\"#Model accuracy\">Model accuracy</a></li>\n",
    "            <li><a href=\"#Model performance\">Model performance</a></li>\n",
    "            <li><a href=\"#Model assessment\">Model assessment</a></li>\n",
    "        </ol>\n",
    "    </li>\n",
    "</ol>\n"
   ]
  },
  {
   "cell_type": "markdown",
   "id": "a6d274b9",
   "metadata": {},
   "source": [
    "# Objectives\n",
    "\n",
    "In this notebook I will predict credit card fraud with:\n",
    "- Logistic regression\n",
    "- Supervised ML models\n",
    "\n"
   ]
  },
  {
   "cell_type": "markdown",
   "id": "d30e3e07",
   "metadata": {},
   "source": [
    "# Setup"
   ]
  },
  {
   "cell_type": "markdown",
   "id": "14d0da45",
   "metadata": {},
   "source": [
    "### Importing Required Libraries\n",
    "\n",
    "Libraries required for this notebook will be imported here"
   ]
  },
  {
   "cell_type": "code",
   "execution_count": 2,
   "id": "3badea9d",
   "metadata": {},
   "outputs": [],
   "source": [
    "import pandas as pd"
   ]
  },
  {
   "cell_type": "markdown",
   "id": "dfbd9325",
   "metadata": {},
   "source": [
    "### Load in data\n",
    "\n",
    "Data used: https://www.kaggle.com/datasets/mlg-ulb/creditcardfraud"
   ]
  },
  {
   "cell_type": "code",
   "execution_count": 3,
   "id": "5eb9da42",
   "metadata": {},
   "outputs": [
    {
     "data": {
      "text/html": [
       "<div>\n",
       "<style scoped>\n",
       "    .dataframe tbody tr th:only-of-type {\n",
       "        vertical-align: middle;\n",
       "    }\n",
       "\n",
       "    .dataframe tbody tr th {\n",
       "        vertical-align: top;\n",
       "    }\n",
       "\n",
       "    .dataframe thead th {\n",
       "        text-align: right;\n",
       "    }\n",
       "</style>\n",
       "<table border=\"1\" class=\"dataframe\">\n",
       "  <thead>\n",
       "    <tr style=\"text-align: right;\">\n",
       "      <th></th>\n",
       "      <th>Time</th>\n",
       "      <th>V1</th>\n",
       "      <th>V2</th>\n",
       "      <th>V3</th>\n",
       "      <th>V4</th>\n",
       "      <th>V5</th>\n",
       "      <th>V6</th>\n",
       "      <th>V7</th>\n",
       "      <th>V8</th>\n",
       "      <th>V9</th>\n",
       "      <th>...</th>\n",
       "      <th>V21</th>\n",
       "      <th>V22</th>\n",
       "      <th>V23</th>\n",
       "      <th>V24</th>\n",
       "      <th>V25</th>\n",
       "      <th>V26</th>\n",
       "      <th>V27</th>\n",
       "      <th>V28</th>\n",
       "      <th>Amount</th>\n",
       "      <th>Class</th>\n",
       "    </tr>\n",
       "  </thead>\n",
       "  <tbody>\n",
       "    <tr>\n",
       "      <th>0</th>\n",
       "      <td>0.0</td>\n",
       "      <td>-1.359807</td>\n",
       "      <td>-0.072781</td>\n",
       "      <td>2.536347</td>\n",
       "      <td>1.378155</td>\n",
       "      <td>-0.338321</td>\n",
       "      <td>0.462388</td>\n",
       "      <td>0.239599</td>\n",
       "      <td>0.098698</td>\n",
       "      <td>0.363787</td>\n",
       "      <td>...</td>\n",
       "      <td>-0.018307</td>\n",
       "      <td>0.277838</td>\n",
       "      <td>-0.110474</td>\n",
       "      <td>0.066928</td>\n",
       "      <td>0.128539</td>\n",
       "      <td>-0.189115</td>\n",
       "      <td>0.133558</td>\n",
       "      <td>-0.021053</td>\n",
       "      <td>149.62</td>\n",
       "      <td>0</td>\n",
       "    </tr>\n",
       "  </tbody>\n",
       "</table>\n",
       "<p>1 rows × 31 columns</p>\n",
       "</div>"
      ],
      "text/plain": [
       "   Time        V1        V2        V3        V4        V5        V6        V7  \\\n",
       "0   0.0 -1.359807 -0.072781  2.536347  1.378155 -0.338321  0.462388  0.239599   \n",
       "\n",
       "         V8        V9  ...       V21       V22       V23       V24       V25  \\\n",
       "0  0.098698  0.363787  ... -0.018307  0.277838 -0.110474  0.066928  0.128539   \n",
       "\n",
       "        V26       V27       V28  Amount  Class  \n",
       "0 -0.189115  0.133558 -0.021053  149.62      0  \n",
       "\n",
       "[1 rows x 31 columns]"
      ]
     },
     "execution_count": 3,
     "metadata": {},
     "output_type": "execute_result"
    }
   ],
   "source": [
    "data = pd.read_csv(\"..\\data\\kaggel_credit_card_fraud_detection\\creditcard.csv\")\n",
    "data.head(1)"
   ]
  },
  {
   "cell_type": "markdown",
   "id": "0299795e",
   "metadata": {},
   "source": [
    "### Split data into training and testing set"
   ]
  },
  {
   "cell_type": "code",
   "execution_count": 4,
   "id": "45c07cf2",
   "metadata": {},
   "outputs": [
    {
     "data": {
      "text/plain": [
       "((227845, 29), (56962, 29), (227845,), (56962,))"
      ]
     },
     "execution_count": 4,
     "metadata": {},
     "output_type": "execute_result"
    }
   ],
   "source": [
    "from sklearn.model_selection import train_test_split\n",
    "X = data.drop(columns=[\"Time\", \"Class\"])\n",
    "y = data[\"Class\"]\n",
    "X_train, X_test, y_train, y_test = train_test_split(X, y, test_size=0.2, random_state=42)   \n",
    "X_train.shape, X_test.shape, y_train.shape, y_test.shape  "
   ]
  },
  {
   "cell_type": "code",
   "execution_count": 6,
   "id": "7812c14f",
   "metadata": {},
   "outputs": [
    {
     "data": {
      "text/plain": [
       "(Class\n",
       " 0    227451\n",
       " 1       394\n",
       " Name: count, dtype: int64,\n",
       " Class\n",
       " 0    56864\n",
       " 1       98\n",
       " Name: count, dtype: int64)"
      ]
     },
     "execution_count": 6,
     "metadata": {},
     "output_type": "execute_result"
    }
   ],
   "source": [
    "#check amounts of fraud and non-fraud\n",
    "y_train.value_counts(), y_test.value_counts()"
   ]
  },
  {
   "cell_type": "markdown",
   "id": "d026a024",
   "metadata": {},
   "source": [
    "### Standardise data"
   ]
  },
  {
   "cell_type": "code",
   "execution_count": 7,
   "id": "502e988c",
   "metadata": {},
   "outputs": [],
   "source": [
    "from sklearn.preprocessing import StandardScaler\n",
    "scaler = StandardScaler()\n",
    "X_scaled = scaler.fit_transform(X)"
   ]
  },
  {
   "cell_type": "markdown",
   "id": "90ee7b44",
   "metadata": {},
   "source": [
    "# Scenario\n",
    "\n",
    "Predict credit card fraud various ML models, creating, testing and validating them\n",
    "\n",
    "### Data Description ###\n",
    "\n",
    "The dataset used for this visualization project contains transactions made by credit cards in September 2013 by European cardholders.\n",
    "This dataset presents transactions that occurred in two days, where we have 492 frauds out of 284,807 transactions. The dataset is highly unbalanced, the positive class (frauds) account for 0.172% of all transactions. Features V1-V28 have been deduced by PCA, and have names omitted due to confidentiality\n",
    "\n",
    "The dataset includes the following variables:\n",
    "<br>1. Time: Seconds elapsed between each transaction and the first transaction in the dataset.\n",
    "<br>2-29. V1 - V28: Anonymised features deduced by PCA\n",
    "<br>30. Amount: transaction Amount, this feature can be used for example-dependant cost-sensitive learning\n",
    "<br>31. Class: Responce varialbe for fraud classification (0 = not fraud, 1 = fraud)\n",
    "\n",
    "\n"
   ]
  },
  {
   "cell_type": "markdown",
   "id": "37f5f2fa",
   "metadata": {},
   "source": [
    "## Logistic regression"
   ]
  },
  {
   "cell_type": "markdown",
   "id": "f50afc01",
   "metadata": {},
   "source": [
    "### Model development"
   ]
  },
  {
   "cell_type": "code",
   "execution_count": 11,
   "id": "8d6e6aff",
   "metadata": {},
   "outputs": [
    {
     "name": "stderr",
     "output_type": "stream",
     "text": [
      "C:\\Users\\aiden\\AppData\\Local\\Packages\\PythonSoftwareFoundation.Python.3.11_qbz5n2kfra8p0\\LocalCache\\local-packages\\Python311\\site-packages\\sklearn\\linear_model\\_logistic.py:469: ConvergenceWarning: lbfgs failed to converge (status=1):\n",
      "STOP: TOTAL NO. of ITERATIONS REACHED LIMIT.\n",
      "\n",
      "Increase the number of iterations (max_iter) or scale the data as shown in:\n",
      "    https://scikit-learn.org/stable/modules/preprocessing.html\n",
      "Please also refer to the documentation for alternative solver options:\n",
      "    https://scikit-learn.org/stable/modules/linear_model.html#logistic-regression\n",
      "  n_iter_i = _check_optimize_result(\n"
     ]
    }
   ],
   "source": [
    "from sklearn.linear_model import LogisticRegression\n",
    "model = LogisticRegression()\n",
    "model.fit(X_train, y_train)\n",
    "y_pred = model.predict(X_test)\n",
    "\n"
   ]
  },
  {
   "cell_type": "markdown",
   "id": "6b794fa5",
   "metadata": {},
   "source": [
    "### Model accuracy"
   ]
  },
  {
   "cell_type": "code",
   "execution_count": 17,
   "id": "dbba0f7f",
   "metadata": {},
   "outputs": [
    {
     "name": "stdout",
     "output_type": "stream",
     "text": [
      "ROC-AUC Score: 0.9601\n"
     ]
    }
   ],
   "source": [
    "from sklearn.metrics import roc_auc_score\n",
    "y_probs = model.predict_proba(X_test)[:, 1]  # Extracting probabilities for class 1\n",
    "auc = roc_auc_score(y_test, y_probs)\n",
    "print(f\"ROC-AUC Score: {auc:.4f}\")\n"
   ]
  },
  {
   "cell_type": "code",
   "execution_count": 18,
   "id": "a35e405f",
   "metadata": {},
   "outputs": [
    {
     "name": "stdout",
     "output_type": "stream",
     "text": [
      "              precision    recall  f1-score   support\n",
      "\n",
      "           0       1.00      1.00      1.00     56864\n",
      "           1       0.83      0.59      0.69        98\n",
      "\n",
      "    accuracy                           1.00     56962\n",
      "   macro avg       0.91      0.80      0.85     56962\n",
      "weighted avg       1.00      1.00      1.00     56962\n",
      "\n"
     ]
    }
   ],
   "source": [
    "from sklearn.metrics import classification_report\n",
    "#Precision, Recall, and F1-score\n",
    "print(classification_report(y_test, y_pred))"
   ]
  },
  {
   "cell_type": "code",
   "execution_count": 19,
   "id": "8cddecdf",
   "metadata": {},
   "outputs": [
    {
     "data": {
      "image/png": "[encoded data removed]",
      "text/plain": [
       "<Figure size 800x500 with 2 Axes>"
      ]
     },
     "metadata": {},
     "output_type": "display_data"
    }
   ],
   "source": [
    "import matplotlib.pyplot as plt\n",
    "import numpy as np\n",
    "import seaborn as sns\n",
    "\n",
    "# Metrics from classification report\n",
    "labels = [\"Precision\", \"Recall\", \"F1-score\"]\n",
    "fraud = [0.83, 0.59, 0.69]\n",
    "non_fraud = [1.00, 1.00, 1.00]\n",
    "\n",
    "# Creating the DataFrame\n",
    "metrics = np.array([non_fraud, fraud])\n",
    "df = pd.DataFrame(metrics, columns=labels, index=[\"Non-Fraud\", \"Fraud\"])\n",
    "\n",
    "# Plotting\n",
    "plt.figure(figsize=(8, 5))\n",
    "sns.heatmap(df, annot=True, cmap=\"Blues\", fmt=\".2f\", linewidths=0.5)\n",
    "plt.title(\"Classification Report Heatmap\")\n",
    "plt.show()\n"
   ]
  },
  {
   "cell_type": "markdown",
   "id": "f5560404",
   "metadata": {},
   "source": [
    "### Model performance\n",
    "\n",
    "**Non-Fraud**\n",
    "\n",
    "Precision - 1.00 - Few if no false positives; Good classification of non-fraudulent transactions\n",
    "\n",
    "Recall - 1.00 - Model identifies all legitimate transactions\n",
    "\n",
    "F1-score - 1.00 - Perfect balance of precision and recall\n",
    "\n",
    "**Fraud**\n",
    "\n",
    "Precisions - 0.83 - 83% of true positives identified, 17% of fraud predictions are false positives\n",
    "\n",
    "Recall - Model only catches 59% of actual fraud cases, some cases no identified\n",
    "\n",
    "F1-score -  Reasonable balance but can be improved"
   ]
  },
  {
   "cell_type": "markdown",
   "id": "1f5a6cff",
   "metadata": {},
   "source": [
    "### Model assessment"
   ]
  }
 ],
 "metadata": {
  "kernelspec": {
   "display_name": "Python 3",
   "language": "python",
   "name": "python3"
  },
  "language_info": {
   "codemirror_mode": {
    "name": "ipython",
    "version": 3
   },
   "file_extension": ".py",
   "mimetype": "text/x-python",
   "name": "python",
   "nbconvert_exporter": "python",
   "pygments_lexer": "ipython3",
   "version": "3.11.9"
  }
 },
 "nbformat": 4,
 "nbformat_minor": 5
}
